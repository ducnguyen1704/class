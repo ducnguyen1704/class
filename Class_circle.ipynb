{
 "cells": [
  {
   "cell_type": "markdown",
   "metadata": {},
   "source": [
    "# Xây dựng lớp hình tròn và vẽ"
   ]
  },
  {
   "cell_type": "code",
   "execution_count": 3,
   "metadata": {},
   "outputs": [],
   "source": [
    "import turtle\n",
    "t = turtle.Turtle()\n",
    "import math\n"
   ]
  },
  {
   "cell_type": "code",
   "execution_count": 6,
   "metadata": {},
   "outputs": [],
   "source": [
    "# Xây dựng lớp, hàm khởi tạo có các tham số như đề bài yêu cầu\n",
    "class Circle:\n",
    "\n",
    "    def __init__(self, r, x, y):\n",
    "        \"\"\"\n",
    "        Hàm khởi tạo có tham số\n",
    "        :param r: Bán kính\n",
    "        :param x: Hoành độ x của tâm hình tròn\n",
    "        :param y: Tung độ y của tâm hình tròn\n",
    "        \"\"\"\n",
    "        self.r = r\n",
    "        self.x = x\n",
    "        self.y = y\n",
    "        # Xây dựng các phương thức vẽ đường tròn, tính chu vi, diện tích\n",
    "    def draw(self):\n",
    "        \"\"\"Phương thức vẽ đường tròn\"\"\"\n",
    "        t.hideturtle()\n",
    "        t.penup()\n",
    "        t.goto(self.x, self.y)\n",
    "        t.pendown()\n",
    "        t.circle(self.r)\n",
    "        turtle.done()\n",
    "\n",
    "    def area(self):\n",
    "        '''Phương thức tính diện tích hình tròn'''\n",
    "        return math.pi * self.r ** 2\n",
    "\n",
    "    def perimeter(self):\n",
    "        \"\"\"\n",
    "        Phương thức tính chu vi đường tròn\n",
    "        \"\"\"\n",
    "        return 2 * math.pi * self.r"
   ]
  },
  {
   "cell_type": "code",
   "execution_count": 7,
   "metadata": {},
   "outputs": [
    {
     "name": "stdout",
     "output_type": "stream",
     "text": [
      "S =  31415.926535897932\n",
      "C =  628.3185307179587\n"
     ]
    }
   ],
   "source": [
    "# Tạo đối tượng hình tròn\n",
    "c = Circle(100, -200, 0)\n",
    "c.draw()\n",
    "print(\"S = \", c.area())\n",
    "print(\"C = \", c.perimeter())"
   ]
  },
  {
   "cell_type": "code",
   "execution_count": null,
   "metadata": {},
   "outputs": [],
   "source": []
  }
 ],
 "metadata": {
  "kernelspec": {
   "display_name": "Python 3",
   "language": "python",
   "name": "python3"
  },
  "language_info": {
   "codemirror_mode": {
    "name": "ipython",
    "version": 3
   },
   "file_extension": ".py",
   "mimetype": "text/x-python",
   "name": "python",
   "nbconvert_exporter": "python",
   "pygments_lexer": "ipython3",
   "version": "3.7.6"
  }
 },
 "nbformat": 4,
 "nbformat_minor": 4
}
